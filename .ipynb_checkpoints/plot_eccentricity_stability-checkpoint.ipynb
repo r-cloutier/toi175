{
 "cells": [
  {
   "cell_type": "code",
   "execution_count": 1,
   "metadata": {},
   "outputs": [],
   "source": [
    "from imports import *\n",
    "from integrate_results import *\n",
    "from matplotlib.colors import rgb2hex\n",
    "from scipy.ndimage.filters import gaussian_filter as gfilt\n",
    "%matplotlib inline"
   ]
  },
  {
   "cell_type": "markdown",
   "metadata": {},
   "source": [
    "## get data"
   ]
  },
  {
   "cell_type": "code",
   "execution_count": 24,
   "metadata": {},
   "outputs": [],
   "source": [
    "# get MCMC results\n",
    "samples = fits.open('output_data/3planets_TOI175_H161_HalphaGP_samplesv1')[0].data\n",
    "hc, kc, hd, kd, hb, kb =  samples[:,np.array([9,10,14,15,19,20])].T\n",
    "eccsampb = hb*hb + kb*kb\n",
    "eccsampc = hc*hc + kc*kc\n",
    "eccsampd = hd*hd + kd*kd"
   ]
  },
  {
   "cell_type": "code",
   "execution_count": 25,
   "metadata": {},
   "outputs": [
    {
     "data": {
      "text/plain": [
       "<matplotlib.legend.Legend at 0x1229e2350>"
      ]
     },
     "execution_count": 25,
     "metadata": {},
     "output_type": "execute_result"
    },
    {
     "data": {
      "image/png": "[encoded data removed]",
      "text/plain": [
       "<matplotlib.figure.Figure at 0x1204259d0>"
      ]
     },
     "metadata": {},
     "output_type": "display_data"
    }
   ],
   "source": [
    "bins = np.linspace(0,1,30)\n",
    "_=plt.hist(eccsampb, bins=bins, histtype='step', lw=2, label='L 98-59b (MCMC only)')\n",
    "_=plt.hist(eccsampc, bins=bins, histtype='step', lw=2, label='L 98-59c (MCMC only)')\n",
    "_=plt.hist(eccsampd, bins=bins, histtype='step', lw=2, label='L 98-59d (MCMC only)')\n",
    "plt.legend(loc='upper right')"
   ]
  },
  {
   "cell_type": "code",
   "execution_count": 4,
   "metadata": {},
   "outputs": [],
   "source": [
    "# get stability constraints as functions of each planet's eccentricity\n",
    "self = loadpickle('pickles_uncorr_0d3ecc_lin_toi175/integrate_results')"
   ]
  },
  {
   "cell_type": "markdown",
   "metadata": {},
   "source": [
    "## resample eccentricity posteriors to derive eccentricity upper limits for the results table"
   ]
  },
  {
   "cell_type": "code",
   "execution_count": null,
   "metadata": {},
   "outputs": [
    {
     "name": "stdout",
     "output_type": "stream",
     "text": [
      "0.0\n",
      "sizesv2: 0 0 0\n",
      "sizesv3: 0 0 0\n"
     ]
    },
    {
     "name": "stderr",
     "output_type": "stream",
     "text": [
      "/Users/ryancloutier/anaconda2/lib/python2.7/site-packages/ipykernel/__main__.py:15: RuntimeWarning: invalid value encountered in divide\n",
      "/Users/ryancloutier/anaconda2/lib/python2.7/site-packages/ipykernel/__main__.py:37: RuntimeWarning: invalid value encountered in divide\n",
      "/Users/ryancloutier/anaconda2/lib/python2.7/site-packages/ipykernel/__main__.py:29: RuntimeWarning: invalid value encountered in divide\n",
      "/Users/ryancloutier/anaconda2/lib/python2.7/site-packages/ipykernel/__main__.py:22: RuntimeWarning: invalid value encountered in divide\n"
     ]
    }
   ],
   "source": [
    "# resample the eccentricity posteriors based on stability fractions\n",
    "Ntrials, ecc_binwidth = int(samples.shape[0]), .01 \n",
    "eccsampb_v2, eccsampc_v2, eccsampd_v2 = np.zeros(0), np.zeros(0), np.zeros(0)\n",
    "eccsampb_v3, eccsampc_v3, eccsampd_v3 = np.zeros(0), np.zeros(0), np.zeros(0)\n",
    "for i in range(int(Ntrials)):\n",
    "    \n",
    "    if i%1e4 == 0:\n",
    "        print float(i) / Ntrials\n",
    "        print 'sizesv2:', eccsampb_v2.size, eccsampc_v2.size, eccsampd_v2.size\n",
    "        print 'sizesv3:', eccsampb_v3.size, eccsampc_v3.size, eccsampd_v3.size\n",
    "    \n",
    "    # resample e_b\n",
    "    eb = np.random.choice(eccsampb)\n",
    "    g = (self.ecc0[:,0] >= eb-ecc_binwidth) & (self.ecc0[:,0] <= eb+ecc_binwidth)\n",
    "    stabfrac = self.stable[g].sum() / float(self.stable[g].size)\n",
    "    if np.random.rand() <= stabfrac:\n",
    "        eccsampb_v2 = np.append(eccsampb_v2, eb)\n",
    "        \n",
    "    # resample e_c\n",
    "    ec = np.random.choice(eccsampc)\n",
    "    g = (self.ecc0[:,1] >= ec-ecc_binwidth) & (self.ecc0[:,1] <= ec+ecc_binwidth)\n",
    "    stabfrac = self.stable[g].sum() / float(self.stable[g].size)\n",
    "    if np.random.rand() <= stabfrac:\n",
    "        eccsampc_v2 = np.append(eccsampc_v2, ec)\n",
    "        \n",
    "    # resample e_d\n",
    "    ed = np.random.choice(eccsampd)\n",
    "    g = (self.ecc0[:,2] >= ed-ecc_binwidth) & (self.ecc0[:,2] <= ed+ecc_binwidth)\n",
    "    stabfrac = self.stable[g].sum() / float(self.stable[g].size)\n",
    "    if np.random.rand() <= stabfrac:\n",
    "        eccsampd_v2 = np.append(eccsampd_v2, ed)\n",
    "        \n",
    "    # resample all eccs\n",
    "    ind = np.random.choice(np.arange(eccsampb.size))\n",
    "    eb, ec, ed = eccsampb[ind], eccsampc[ind], eccsampd[ind]\n",
    "    g = (self.ecc0[:,0] >= eb-ecc_binwidth) & (self.ecc0[:,0] <= eb+ecc_binwidth) & \\\n",
    "        (self.ecc0[:,1] >= ec-ecc_binwidth) & (self.ecc0[:,1] <= ec+ecc_binwidth) & \\\n",
    "        (self.ecc0[:,2] >= ed-ecc_binwidth) & (self.ecc0[:,2] <= ed+ecc_binwidth)\n",
    "    stabfrac = self.stable[g].sum() / float(self.stable[g].size)\n",
    "    if np.random.rand() <= stabfrac:\n",
    "        eccsampb_v3 = np.append(eccsampb_v3, eb)\n",
    "        eccsampc_v3 = np.append(eccsampc_v3, ec)\n",
    "        eccsampd_v3 = np.append(eccsampd_v3, ed)"
   ]
  },
  {
   "cell_type": "code",
   "execution_count": null,
   "metadata": {},
   "outputs": [],
   "source": [
    "def plot_post(ax, eccsamp, bins, label, col):\n",
    "    y, xedges = np.histogram(eccsamp, bins=bins, density=True)\n",
    "    x, y = xedges[:-1]+np.diff(xedges)[0]/2, gfilt(y,1)\n",
    "    ax.plot(x, y, '-', c=col, lw=lw, label=label)\n",
    "    fint = interp1d(x, y)\n",
    "    xm = np.linspace(x[0],np.percentile(eccsamp,95),100)\n",
    "    ax.fill_between(np.append(0,xm), np.zeros(xm.size+1), np.append(y[0],fint(xm)), color=col, alpha=.4)\n",
    "    \n",
    "\n",
    "# plot posteriors\n",
    "#cols = [rgb2hex(plt.get_cmap('hot')(int(f*255))[:3]) for f in [.1,.5]]\n",
    "cols = ['#d6604d','#2166ac','#053061','#4393c3','#f4a582','#92c5de','#67001f']\n",
    "lw=3\n",
    "bins = np.arange(0,1.01,.02)\n",
    "#bins = np.logspace(-3,0,40)\n",
    "\n",
    "fig = plt.figure(figsize=(4,6))\n",
    "ax1 = fig.add_subplot(311)\n",
    "plot_post(ax1, eccsampb, bins, 'MCMC only', cols[0])\n",
    "plot_post(ax1, eccsampb_v3, bins, 'MCMC + stability criteria', cols[1])\n",
    "ax1.set_ylabel('p(e$_b$|RV)', fontsize=14)\n",
    "ax1.set_ylim((1e-1,ax1.get_ylim()[1]*2)), ax1.set_xlim((0,1))\n",
    "#ax1.legend(loc='upper right', frameon=False, fontsize=12)\n",
    "ax1.set_yscale('log')\n",
    "ax1.set_xticklabels('')\n",
    "\n",
    "ax2 = fig.add_subplot(312)\n",
    "plot_post(ax2, eccsampc, bins, 'MCMC only', cols[0])\n",
    "plot_post(ax2, eccsampc_v3, bins, 'MCMC + stability', cols[1])\n",
    "ax2.set_ylabel('p(e$_c$|RV)', fontsize=14)\n",
    "ax2.set_ylim((1e-1,ax2.get_ylim()[1]*2)), ax2.set_xlim((0,1))\n",
    "ax2.legend(bbox_to_anchor=(.28,.92), frameon=False, fontsize=12, handletextpad=1, labelspacing=1)\n",
    "ax2.set_yscale('log')\n",
    "ax2.set_xticklabels('')\n",
    "\n",
    "ax3 = fig.add_subplot(313)\n",
    "plot_post(ax3, eccsampd, bins, 'MCMC only', cols[0])\n",
    "plot_post(ax3, eccsampd_v3, bins, 'MCMC + stability', cols[1])\n",
    "ax3.set_ylabel('p(e$_d$|RV)', fontsize=14)\n",
    "ax3.set_ylim((1e-1,ax3.get_ylim()[1]*2)), ax3.set_xlim((0,1))\n",
    "ax3.set_xlabel('Orbital Eccentricity', fontsize=12)\n",
    "ax3.set_yscale('log')\n",
    "\n",
    "fig.subplots_adjust(hspace=0, right=.96, left=.19, bottom=.09, top=.98)\n",
    "plt.savefig('/Users/ryancloutier/Research/TOI_175/plots/eccpostv3.png')"
   ]
  },
  {
   "cell_type": "code",
   "execution_count": null,
   "metadata": {},
   "outputs": [],
   "source": [
    "print np.percentile(eccsampb, 95), np.percentile(eccsampb_v2, 95), np.percentile(eccsampb_v3, 95)\n",
    "print np.percentile(eccsampc, 95), np.percentile(eccsampc_v2, 95), np.percentile(eccsampc_v3, 95)\n",
    "print np.percentile(eccsampd, 95), np.percentile(eccsampd_v2, 95), np.percentile(eccsampd_v3, 95)"
   ]
  },
  {
   "cell_type": "markdown",
   "metadata": {},
   "source": [
    "## get stability maps versus planet eccentricities"
   ]
  },
  {
   "cell_type": "code",
   "execution_count": 8,
   "metadata": {},
   "outputs": [],
   "source": [
    "# get snp.linspace map versus planet b and c\n",
    "eccbins = np.linspace(0,.3,20)\n",
    "stabfrac_bc = np.zeros((eccbins.size-1, eccbins.size-1))\n",
    "for i in range(stabfrac_bc.shape[0]):\n",
    "    for j in range(stabfrac_bc.shape[0]):\n",
    "        g = (self.ecc0[:,0] >= eccbins[i]) & (self.ecc0[:,0] <= eccbins[i+1]) & \\\n",
    "            (self.ecc0[:,1] >= eccbins[j]) & (self.ecc0[:,1] <= eccbins[j+1])\n",
    "        stabfrac_bc[i,j] = self.stable[g].sum() / float(self.stable[g].size)\n",
    "        \n",
    "        \n",
    "# get stability map versus planet b and d\n",
    "stabfrac_bd = np.zeros((eccbins.size-1, eccbins.size-1))\n",
    "for i in range(stabfrac_bd.shape[0]):\n",
    "    for j in range(stabfrac_bd.shape[0]):\n",
    "        g = (self.ecc0[:,0] >= eccbins[i]) & (self.ecc0[:,0] <= eccbins[i+1]) & \\\n",
    "            (self.ecc0[:,2] >= eccbins[j]) & (self.ecc0[:,2] <= eccbins[j+1])\n",
    "        stabfrac_bd[i,j] = self.stable[g].sum() / float(self.stable[g].size)\n",
    "        \n",
    "        \n",
    "# get stability map versus planet c and d\n",
    "stabfrac_cd = np.zeros((eccbins.size-1, eccbins.size-1))\n",
    "for i in range(stabfrac_cd.shape[0]):\n",
    "    for j in range(stabfrac_cd.shape[0]):\n",
    "        g = (self.ecc0[:,1] >= eccbins[i]) & (self.ecc0[:,1] <= eccbins[i+1]) & \\\n",
    "            (self.ecc0[:,2] >= eccbins[j]) & (self.ecc0[:,2] <= eccbins[j+1])\n",
    "        stabfrac_cd[i,j] = self.stable[g].sum() / float(self.stable[g].size)\n",
    "        \n",
    "        \n",
    "# 1d stability fractions\n",
    "stabfrac_b, stabfrac_c, stabfrac_d = np.zeros(eccbins.size-1), np.zeros(eccbins.size-1), np.zeros(eccbins.size-1)\n",
    "for i in range(stabfrac_bc.shape[0]):\n",
    "    # b\n",
    "    g = (self.ecc0[:,0] >= eccbins[i]) & (self.ecc0[:,0] <= eccbins[i+1])\n",
    "    stabfrac_b[i] = self.stable[g].sum() / float(self.stable[g].size)\n",
    "    \n",
    "    # c\n",
    "    g = (self.ecc0[:,1] >= eccbins[i]) & (self.ecc0[:,1] <= eccbins[i+1])\n",
    "    stabfrac_c[i] = self.stable[g].sum() / float(self.stable[g].size)\n",
    "    \n",
    "    # d\n",
    "    g = (self.ecc0[:,2] >= eccbins[i]) & (self.ecc0[:,2] <= eccbins[i+1])\n",
    "    stabfrac_d[i] = self.stable[g].sum() / float(self.stable[g].size)"
   ]
  },
  {
   "cell_type": "code",
   "execution_count": 11,
   "metadata": {},
   "outputs": [
    {
     "data": {
      "image/png": "[encoded data removed]",
      "text/plain": [
       "<matplotlib.figure.Figure at 0x11b590350>"
      ]
     },
     "metadata": {},
     "output_type": "display_data"
    }
   ],
   "source": [
    "# plot stability maps\n",
    "fig = plt.figure(figsize=(7,7))\n",
    "gs = gridspec.GridSpec(7,7)\n",
    "\n",
    "# stability map vs e_b and e_c\n",
    "ax1 = plt.subplot(gs[1:4,:3])\n",
    "vmin, vmax = 0, .6\n",
    "ax1.pcolormesh(eccbins, eccbins, stabfrac_bc, cmap=plt.get_cmap('hot'), vmin=vmin, vmax=vmax)\n",
    "ax1.set_xlim((0,.3))\n",
    "ax1.set_ylabel('e$_b$', fontsize=14)\n",
    "ax1.set_xticklabels('')\n",
    "\n",
    "# stability map vs e_b and e_d\n",
    "ax2 = plt.subplot(gs[4:7,3:6])\n",
    "ax2.pcolormesh(eccbins, eccbins, stabfrac_bd.T, cmap=plt.get_cmap('hot'), vmin=vmin, vmax=vmax)\n",
    "ax2.set_yticklabels('')\n",
    "ax2.set_xlabel('e$_b$', fontsize=14)\n",
    "\n",
    "# stability map vs e_d and e_c\n",
    "ax6 = plt.subplot(gs[4:,:3])\n",
    "img = ax6.pcolormesh(eccbins, eccbins, stabfrac_cd.T, cmap=plt.get_cmap('hot'), vmin=vmin, vmax=vmax)\n",
    "#ax6.set_yticklabels('')\n",
    "ax6.set_xlabel('e$_c$', fontsize=14), ax6.set_ylabel('e$_d$', fontsize=14)\n",
    "ax6.set_xticks(np.arange(0,.3,.1)), ax6.set_xticklabels(np.arange(0,.3,.1))\n",
    "\n",
    "# stability colorbar\n",
    "cbar_axes = fig.add_axes([.1, .08, .75, .03])\n",
    "cbar = plt.colorbar(img, cax=cbar_axes, orientation='horizontal')\n",
    "cbar.set_label('Stability Fraction', fontsize=12)\n",
    "\n",
    "# stability fraction: e_c\n",
    "ax3 = plt.subplot(gs[0,:3])\n",
    "cols = [rgb2hex(plt.get_cmap('hot')(int(f*255))[:3]) for f in [.8,.2]]\n",
    "p=ax3.hist([self.ecc0[:,1][self.stable], self.ecc0[:,1][np.invert(self.stable)]], bins=eccbins, stacked=True, \n",
    "           color=cols, rwidth=.9, linewidth=1, edgecolor='k', log=True)\n",
    "Nstable, Ntotal, xbins = p[0][0], p[0][1], p[1]\n",
    "xbins = xbins[:-1] + np.diff(xbins)[0]/2\n",
    "frac_stable = np.round(Nstable*1e2 / Ntotal)\n",
    "for i in range(xbins.size):\n",
    "    ax3.text(xbins[i], Ntotal[i]+1e3, '%i'%frac_stable[i], fontsize=8,\n",
    "             horizontalalignment='center', verticalalignment='bottom')\n",
    "ax3.set_xlim((0,.3))\n",
    "ax3.set_yticklabels(''), ax3.set_xticklabels('')\n",
    "ax3.set_ylabel('Log\\nStability\\nFraction', fontsize=12, labelpad=6)\n",
    "ax3.set_ylim((1,2e4))\n",
    "\n",
    "# stability fraction: e_d\n",
    "ax4 = plt.subplot(gs[4:,-1])\n",
    "p=ax4.hist([self.ecc0[:,2][self.stable], self.ecc0[:,2][np.invert(self.stable)]], bins=eccbins, stacked=True, \n",
    "           color=cols, rwidth=.9, linewidth=1, edgecolor='k', log=True, orientation='horizontal')\n",
    "Nstable, Ntotal, xbins = p[0][0], p[0][1], p[1]\n",
    "xbins = xbins[:-1] + np.diff(xbins)[0]/2\n",
    "frac_stable = np.round(Nstable*1e2 / Ntotal)\n",
    "for i in range(xbins.size):\n",
    "    ax4.text(Ntotal[i]+3e3, xbins[i], '%i'%frac_stable[i], fontsize=9,\n",
    "             horizontalalignment='center', verticalalignment='center')\n",
    "       \n",
    "ax4.set_ylim((0,.3))\n",
    "ax4.set_yticklabels(''), ax4.set_xticklabels('')\n",
    "ax4.set_xlabel('Log\\nStability\\nFraction', fontsize=12, labelpad=2)\n",
    "ax4.set_xlim((1,2e4))\n",
    "\n",
    "# stability fraction: e_b\n",
    "ax5 = plt.subplot(gs[3,3:6])\n",
    "p=ax5.hist([self.ecc0[:,0][self.stable], self.ecc0[:,0][np.invert(self.stable)]], bins=eccbins, stacked=True, \n",
    "           color=cols, rwidth=.9, linewidth=1, edgecolor='k', log=True, label=['Stable','Unstable'])\n",
    "Nstable, Ntotal, xbins = p[0][0], p[0][1], p[1]\n",
    "xbins = xbins[:-1] + np.diff(xbins)[0]/2\n",
    "frac_stable = np.round(Nstable*1e2 / Ntotal)\n",
    "for i in range(xbins.size):\n",
    "    ax5.text(xbins[i], Ntotal[i]+3e3, '%i'%frac_stable[i], fontsize=8,\n",
    "             horizontalalignment='center', verticalalignment='center')\n",
    "\n",
    "ax5.set_xlim((0,.3))\n",
    "ax5.set_yticklabels(''), ax5.set_xticklabels('')\n",
    "ax5.legend(bbox_to_anchor=(.3,1.2), fontsize=12, frameon=False)\n",
    "#ax5.set_xlabel('Log\\nStability\\nFraction', fontsize=12, labelpad=4)\n",
    "ax5.set_ylim((1,2e4))\n",
    "\n",
    "fig.subplots_adjust(bottom=.2, top=.98, right=.98, left=.1)\n",
    "plt.savefig('/Users/ryancloutier/Research/TOI_175/plots/stabilityv2.png')"
   ]
  },
  {
   "cell_type": "code",
   "execution_count": null,
   "metadata": {},
   "outputs": [],
   "source": []
  }
 ],
 "metadata": {
  "kernelspec": {
   "display_name": "Python [default]",
   "language": "python",
   "name": "python2"
  },
  "language_info": {
   "codemirror_mode": {
    "name": "ipython",
    "version": 2
   },
   "file_extension": ".py",
   "mimetype": "text/x-python",
   "name": "python",
   "nbconvert_exporter": "python",
   "pygments_lexer": "ipython2",
   "version": "2.7.13"
  }
 },
 "nbformat": 4,
 "nbformat_minor": 2
}
