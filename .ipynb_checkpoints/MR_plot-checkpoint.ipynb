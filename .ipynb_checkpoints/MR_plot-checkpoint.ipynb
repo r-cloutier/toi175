{
 "cells": [
  {
   "cell_type": "code",
   "execution_count": 1,
   "metadata": {},
   "outputs": [],
   "source": [
    "from imports import *\n",
    "%matplotlib inline"
   ]
  },
  {
   "cell_type": "code",
   "execution_count": 2,
   "metadata": {},
   "outputs": [],
   "source": [
    "# get planet data\n",
    "names, mps, emps, rps, erps = mr.MR_planets()\n",
    "sort = np.argsort(names)\n",
    "names, mps, emps, rps, erps = names[sort], mps[sort], emps[sort], rps[sort], erps[sort]"
   ]
  },
  {
   "cell_type": "code",
   "execution_count": 3,
   "metadata": {},
   "outputs": [],
   "source": [
    "# label exoplanets by a number\n",
    "SS_names = np.array(['Venus','Earth','Uranus','Neptune'])\n",
    "nums = np.zeros(names.size)\n",
    "nums[np.in1d(names, SS_names, invert=True)] = np.arange(1,names.size-3)"
   ]
  },
  {
   "cell_type": "code",
   "execution_count": 4,
   "metadata": {},
   "outputs": [],
   "source": [
    "# get collisional stripping limit\n",
    "mpM, rpM = np.loadtxt('input_data/Marcusetal2010_strippingdata.csv', delimiter=',').T"
   ]
  },
  {
   "cell_type": "code",
   "execution_count": 5,
   "metadata": {},
   "outputs": [],
   "source": [
    "# Get interior models\n",
    "m1, r1 = mr.MR_MgSiO3H2O_curves(0)\n",
    "m2, r2 = mr.MR_MgSiO3H2O_curves(.25)\n",
    "m3, r3 = mr.MR_MgSiO3H2O_curves(.5)\n",
    "m4, r4 = mr.MR_MgSiO3H2O_curves(.75)\n",
    "m5, r5 = mr.MR_MgSiO3H2O_curves(1)\n",
    "m6, r6 = mr.MR_FeMgSiO3_curves(.5)\n",
    "m7, r7 = mr.MR_FeMgSiO3_curves(1)\n",
    "Mmodels, Rmodels = np.array([m1,m2,m3,m4,m5,m6,m7]).reshape(7,m1.size), \\\n",
    "np.array([r1,r2,r3,r4,r5,r6,r7]).reshape(7,r1.size)\n",
    "model_labels = ['100% H$_2$O','25% MgSiO$_3$ - 75% H$_2$O', '50% MgSiO$_3$ - 50% H$_2$O','75% MgSiO$_3$ - 25% H$_2$O',\\\n",
    "                '100% MgSiO$_3$','50% Fe - 50% MgSiO$_3$','100% Fe']"
   ]
  },
  {
   "cell_type": "code",
   "execution_count": null,
   "metadata": {},
   "outputs": [],
   "source": [
    "# plotting\n",
    "fig = plt.figure(figsize=(6,5.6))\n",
    "ax = fig.add_subplot(111)\n",
    "\n",
    "# plot interior curve\n",
    "cols = ['#67001f','#d6604d','#f4a582','#92c5de','#4393c3','#2166ac','#053061']\n",
    "#xs, dy, rot = np.array([2.6,2.6,2.6,2.6,9,7.6,9]), \\\n",
    "#              np.array([1.2e-2,1.3e-2,7e-3,5e-3,3e-2,2e-2,2e-2]), \\\n",
    "#              np.array([41,38,36,34,36,32,27])\n",
    "xs, dy, rot = np.array([.62,.62,.62,.62,9,8,9]), \\\n",
    "              np.array([1.2e-2,1.3e-2,7e-3,5e-3,3e-2,2e-2,2e-2]), \\\n",
    "              np.array([30,28,27,26,36,31,27])\n",
    "for i in range(7):\n",
    "    ax.plot(Mmodels[i], Rmodels[i], '-', c=cols[i])\n",
    "    ax.text(xs[i], Rmodels[i][abs(Mmodels[i]-xs[i])==abs(Mmodels[i]-xs[i]).min()]+dy[i],\n",
    "            model_labels[i], color=cols[i], fontsize=8.5, rotation=rot[i],\n",
    "            verticalalignment='bottom', weight='bold')\n",
    "    \n",
    "# plot collisional stripping curve\n",
    "#ax.plot(mpM, rpM, 'k-')\n",
    "    \n",
    "# plot SS planets\n",
    "SSplanets = np.where(np.in1d(names, SS_names[:2]))[0]\n",
    "for i in SSplanets:\n",
    "    ax.errorbar(mps[i], rps[i], xerr=emps[i], yerr=erps[i], fmt='o',\n",
    "                capsize=0, elinewidth=1, c='#08519c')\n",
    "    dy = -.06 if names[i] == 'Venus' else -.02\n",
    "    ax.text(mps[i]+.05, rps[i]+dy, names[i], horizontalalignment='left', fontsize=8, weight='bold')\n",
    "\n",
    "# plt exoplanets\n",
    "exoplanets = np.where(np.in1d(names, SS_names, invert=1))[0]\n",
    "xinvert = [20,15,18,16,12,19]\n",
    "yinvert = [18,15,11]\n",
    "for i in range(exoplanets.size):\n",
    "    ax.errorbar(mps[exoplanets][i], rps[exoplanets][i], xerr=emps[exoplanets][i], \n",
    "                yerr=erps[exoplanets][i], fmt='o', capsize=0, elinewidth=1, c='#252525', alpha=.2)\n",
    "    dx = -.06 if i+1 in xinvert else .01\n",
    "    dy = -.075 if i+1 in yinvert else .04\n",
    "    ax.text(10**(np.log10(mps[exoplanets][i])+dx), rps[exoplanets][i]+dy, i+1)\n",
    "    ax.plot([0], [0], 'o', ms=0, label='%i) %s'%(i+1, names[exoplanets][i]))\n",
    "    \n",
    "# plot TOI-175 planets\n",
    "col = '#d20c0c'\n",
    "ax.errorbar([2.46,2.26], [1.37,1.48], xerr=[.31,.5], yerr=[.08,.11], fmt='o', color=col, capsize=0)\n",
    "ax.errorbar([.98], [.77], xerr=([.3],[0]), yerr=[.05], fmt='o', color=col, xuplims=True, capsize=0)\n",
    "ax.text(2.7, 1.3, 'L 98-59c', weight='semibold', fontsize=10, color=col)\n",
    "ax.text(2.48, 1.52, 'L 98-59d', weight='semibold', fontsize=10, color=col)\n",
    "ax.text(1.17, .69, 'L 98-59b', weight='semibold', fontsize=10, color=col)\n",
    "    \n",
    "ax.set_xscale('log')\n",
    "ax.set_xlim((.6,20)), ax.set_ylim((.6,3))\n",
    "ax.set_xlabel('Mass [M$_{\\oplus}$]', fontsize=12), ax.set_ylabel('Radius [R$_{\\oplus}$]', fontsize=12)\n",
    "ax.set_xticks([.6,1,3,6,10,20]), ax.set_xticklabels([.6,1,3,6,10,20])\n",
    "\n",
    "plt.minorticks_on()\n",
    "plt.legend(bbox_to_anchor=[.464,.58], ncol=2, columnspacing=-1.5, frameon=False, fontsize=8.5)\n",
    "plt.subplots_adjust(bottom=.09, left=.11, right=.96, top=.96)\n",
    "plt.savefig('/Users/ryancloutier/Research/TOI_175/plots/MRplot.png')"
   ]
  },
  {
   "cell_type": "code",
   "execution_count": null,
   "metadata": {},
   "outputs": [],
   "source": []
  }
 ],
 "metadata": {
  "kernelspec": {
   "display_name": "Python [default]",
   "language": "python",
   "name": "python2"
  },
  "language_info": {
   "codemirror_mode": {
    "name": "ipython",
    "version": 2
   },
   "file_extension": ".py",
   "mimetype": "text/x-python",
   "name": "python",
   "nbconvert_exporter": "python",
   "pygments_lexer": "ipython2",
   "version": "2.7.13"
  }
 },
 "nbformat": 4,
 "nbformat_minor": 2
}
