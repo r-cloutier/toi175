{
 "cells": [
  {
   "cell_type": "code",
   "execution_count": 2,
   "metadata": {},
   "outputs": [
    {
     "name": "stderr",
     "output_type": "stream",
     "text": [
      "\n",
      "Bad key \"xtick.labeltop\" on line 358 in\n",
      "/Users/ryancloutier/.matplotlib/matplotlibrc.\n",
      "You probably need to get an updated matplotlibrc file from\n",
      "http://github.com/matplotlib/matplotlib/blob/master/matplotlibrc.template\n",
      "or from the matplotlib source distribution\n"
     ]
    }
   ],
   "source": [
    "from imports import *\n",
    "from read_data import *\n",
    "from bgls import *\n",
    "from periodogram import compute_LSperiodogram, bootstrap_FAP\n",
    "import matplotlib.gridspec as gridspec\n",
    "%matplotlib inline"
   ]
  },
  {
   "cell_type": "markdown",
   "metadata": {},
   "source": [
    "## get RV and transit data"
   ]
  },
  {
   "cell_type": "code",
   "execution_count": 3,
   "metadata": {},
   "outputs": [
    {
     "name": "stdout",
     "output_type": "stream",
     "text": [
      "-5678.16\n",
      "113\n"
     ]
    }
   ],
   "source": [
    "# get data\n",
    "bjd, rv, erv, fwhm, bis, Halpha, eHalpha, Hbeta, eHbeta, Hgamma, eHgamma, NaD, eNaD, Sindex, eSindex = read_HARPS()\n",
    "\n",
    "# remove bad points known from loocv\n",
    "badRVs = np.array([48])\n",
    "g = np.delete(np.arange(bjd.size), badRVs)\n",
    "bjd, rv, erv, fwhm, bis, Halpha, eHalpha, Hbeta, eHbeta, Hgamma, eHgamma, NaD, eNaD, Sindex, eSindex = \\\n",
    "bjd[g],rv[g],erv[g],fwhm[g],bis[g],Halpha[g],eHalpha[g],Hbeta[g],eHbeta[g],Hgamma[g],eHgamma[g],NaD[g],eNaD[g],Sindex[g],eSindex[g]\n",
    "print bjd.size"
   ]
  },
  {
   "cell_type": "code",
   "execution_count": 4,
   "metadata": {
    "scrolled": false
   },
   "outputs": [
    {
     "data": {
      "text/plain": [
       "Text(0,0.5,u'raw RV [m/s]')"
      ]
     },
     "execution_count": 4,
     "metadata": {},
     "output_type": "execute_result"
    },
    {
     "data": {
      "image/png": "[encoded data removed]",
      "text/plain": [
       "<matplotlib.figure.Figure at 0x1139a53d0>"
      ]
     },
     "metadata": {},
     "output_type": "display_data"
    }
   ],
   "source": [
    "# plot RV time-series\n",
    "plt.figure(figsize=(9,6))\n",
    "plt.errorbar(bjd, rv, erv, fmt='ko', capsize=0, label='HARPS')\n",
    "plt.ylabel('raw RV [m/s]')"
   ]
  },
  {
   "cell_type": "markdown",
   "metadata": {},
   "source": [
    "## plot periodograms"
   ]
  },
  {
   "cell_type": "code",
   "execution_count": 5,
   "metadata": {},
   "outputs": [],
   "source": [
    "def do_bootstrap(x, y, ey, plims, N):\n",
    "    pwrs,faps,_,_ = bootstrap_FAP(x, y, ey, plims=plims, N=int(N), quiet=True)\n",
    "    return faps, pwrs\n",
    "\n",
    "\n",
    "def scale_err(rv, erv, arr):\n",
    "    '''Derive uncertainties for an input timeseries based on the fractional RV uncertainties for use in periodogram\n",
    "    calulations.'''\n",
    "    return arr * erv / rv"
   ]
  },
  {
   "cell_type": "code",
   "execution_count": 7,
   "metadata": {},
   "outputs": [],
   "source": [
    "# compute bootstrap results once\n",
    "Hlen = bjd.max()-bjd.min()\n",
    "\n",
    "save_bootstraps = 0\n",
    "if save_bootstraps:\n",
    "    \n",
    "    # HARPS\n",
    "    yH = [rv, bjd, fwhm, bis, \\\n",
    "          Halpha, Hbeta, Hgamma, NaD, Sindex]\n",
    "    eyH = [erv, np.ones(bjd.size), scale_err(rv,erv,fwhm), scale_err(rv,erv,bis), \\\n",
    "           eHalpha, eHbeta, eHgamma, eNaD, eSindex]\n",
    "    labelsH = ['RV','WF','FWHM','BIS','Halpha','Hbeta','Hgamma','NaD','Sindex']\n",
    "    for i in range(len(yH)):\n",
    "        print i/float(len(yH))\n",
    "        faps, pwrs = do_bootstrap(bjd, yH[i], eyH[i], (.5,Hlen), 1e4)\n",
    "        np.save('output_data/FAPS_%s'%labelsH[i], np.array([faps,pwrs]).T)"
   ]
  },
  {
   "cell_type": "code",
   "execution_count": null,
   "metadata": {},
   "outputs": [],
   "source": [
    "# plot periodograms\n",
    "colH = 'k'\n",
    "fig = plt.figure(figsize=(6,11))\n",
    "gs = gridspec.GridSpec(9,4)\n",
    "\n",
    "# RVs\n",
    "ax01 = plt.subplot(gs[0,:-1])\n",
    "per,pwr,_ = compute_LSperiodogram(bjd, rv, erv, plims=(.5,Hlen))\n",
    "normH = pwr.std()\n",
    "ax01.plot(per, pwr/normH, '-', c=colH, lw=.9)\n",
    "# RV faps\n",
    "ax02 = plt.subplot(gs[0,-1])\n",
    "faps, pwrs = np.load('output_data/FAPS_RV.npy').T\n",
    "ax02.plot(faps, pwrs/normH, '-', c=colH)\n",
    "# customize\n",
    "ax02.set_xscale('log'), ax01.set_xscale('log')\n",
    "ax02.set_xlim((2e-3,1.1)), ax01.set_xlim((.5,200))\n",
    "ax02.set_ylim(ax01.get_ylim()), ax02.set_yticklabels('')\n",
    "ax02.set_xticks(np.logspace(-2,0,3))\n",
    "ax01.set_ylabel('RV', fontsize=12)\n",
    "ax02.set_xticklabels(''), ax01.set_xticklabels('')\n",
    "\n",
    "# WF\n",
    "ax11 = plt.subplot(gs[1,:-1])\n",
    "per,pwr,_ = compute_LSperiodogram(bjd, bjd, np.ones(bjd.size), plims=(.5,Hlen))\n",
    "normH = pwr.std()\n",
    "ax11.plot(per, pwr/normH, '-', c=colH, lw=.9)\n",
    "# WF faps\n",
    "ax12 = plt.subplot(gs[1,-1])\n",
    "faps, pwrs = np.load('output_data/FAPS_WF.npy').T\n",
    "ax12.plot(faps, pwrs/normH, '-', c=colH)\n",
    "# customize\n",
    "ax12.set_xscale('log'), ax11.set_xscale('log')\n",
    "ax12.set_xlim((2e-3,1.1)), ax11.set_xlim((.5,200))\n",
    "ax12.set_ylim(ax11.get_ylim()), ax12.set_yticklabels('')\n",
    "ax12.set_xticks(np.logspace(-2,0,3))\n",
    "ax11.set_ylabel('WF', fontsize=12)\n",
    "ax11.set_xticklabels(''), ax12.set_xticklabels('')\n",
    "\n",
    "# Halpha\n",
    "ax21 = plt.subplot(gs[2,:-1])\n",
    "per,pwr,_ = compute_LSperiodogram(bjd, Halpha, eHalpha, plims=(.5,Hlen))\n",
    "normH = pwr.std()\n",
    "ax21.plot(per, pwr/normH, '-', c=colH, lw=.9)\n",
    "# WF faps\n",
    "ax22 = plt.subplot(gs[2,-1])\n",
    "faps, pwrs = np.load('output_data/FAPS_Halpha.npy').T\n",
    "ax22.plot(faps, pwrs/normH, '-', c=colH)\n",
    "# customize\n",
    "ax22.set_xscale('log'), ax21.set_xscale('log')\n",
    "ax22.set_xlim((2e-3,1.1)), ax21.set_xlim((.5,200))\n",
    "ax22.set_ylim(ax21.get_ylim()), ax22.set_yticklabels('')\n",
    "ax22.set_xticks(np.logspace(-2,0,3))\n",
    "ax21.set_ylabel('H$\\\\alpha$', fontsize=12)\n",
    "ax22.set_xticklabels(''), ax21.set_xticklabels('')\n",
    "\n",
    "# Hbeta\n",
    "ax31 = plt.subplot(gs[3,:-1])\n",
    "per,pwr,_ = compute_LSperiodogram(bjd, Hbeta, eHbeta, plims=(.5,Hlen))\n",
    "normH = pwr.std()\n",
    "ax31.plot(per, pwr/normH, '-', c=colH, lw=.9)\n",
    "# WF faps\n",
    "ax32 = plt.subplot(gs[3,-1])\n",
    "faps, pwrs = np.load('output_data/FAPS_Hbeta.npy').T\n",
    "ax32.plot(faps, pwrs/normH, '-', c=colH)\n",
    "# customize\n",
    "ax32.set_xscale('log'), ax31.set_xscale('log')\n",
    "ax32.set_xlim((2e-3,1.1)), ax31.set_xlim((.5,200))\n",
    "ax32.set_ylim(ax31.get_ylim()), ax32.set_yticklabels('')\n",
    "ax32.set_xticks(np.logspace(-2,0,3))\n",
    "ax31.set_ylabel('H$\\\\beta$', fontsize=12)\n",
    "ax32.set_xticklabels(''), ax31.set_xticklabels('')\n",
    "\n",
    "# Hgamma\n",
    "ax41 = plt.subplot(gs[4,:-1])\n",
    "per,pwr,_ = compute_LSperiodogram(bjd, Hgamma, eHgamma, plims=(.5,Hlen))\n",
    "normH = pwr.std()\n",
    "ax41.plot(per, pwr/normH, '-', c=colH, lw=.9)\n",
    "# WF faps\n",
    "ax42 = plt.subplot(gs[4,-1])\n",
    "faps, pwrs = np.load('output_data/FAPS_Hgamma.npy').T\n",
    "ax42.plot(faps, pwrs/normH, '-', c=colH)\n",
    "# customize\n",
    "ax42.set_xscale('log'), ax41.set_xscale('log')\n",
    "ax42.set_xlim((2e-3,1.1)), ax41.set_xlim((.5,200))\n",
    "ax42.set_ylim(ax41.get_ylim()), ax42.set_yticklabels('')\n",
    "ax42.set_xticks(np.logspace(-2,0,3))\n",
    "ax41.set_ylabel('H$\\\\gamma$', fontsize=12)\n",
    "ax42.set_xticklabels(''), ax41.set_xticklabels('')\n",
    "\n",
    "# NaD\n",
    "ax51 = plt.subplot(gs[5,:-1])\n",
    "per,pwr,_ = compute_LSperiodogram(bjd, NaD, eNaD, plims=(.5,Hlen))\n",
    "normH = pwr.std()\n",
    "ax51.plot(per, pwr/normH, '-', c=colH, lw=.9)\n",
    "# WF faps\n",
    "ax52 = plt.subplot(gs[5,-1])\n",
    "faps, pwrs = np.load('output_data/FAPS_NaD.npy').T\n",
    "ax52.plot(faps, pwrs/normH, '-', c=colH)\n",
    "# customize\n",
    "ax52.set_xscale('log'), ax51.set_xscale('log')\n",
    "ax52.set_xlim((2e-3,1.1)), ax51.set_xlim((.5,200))\n",
    "ax52.set_ylim(ax51.get_ylim()), ax52.set_yticklabels('')\n",
    "ax52.set_xticks(np.logspace(-2,0,3))\n",
    "ax51.set_ylabel('NaD', fontsize=12)\n",
    "ax52.set_xticklabels(''), ax51.set_xticklabels('')\n",
    "\n",
    "# S-index\n",
    "ax61 = plt.subplot(gs[6,:-1])\n",
    "per,pwr,_ = compute_LSperiodogram(bjd, Sindex, eSindex, plims=(.5,Hlen))\n",
    "normH = pwr.std()\n",
    "ax61.plot(per, pwr/normH, '-', c=colH, lw=.9)\n",
    "# WF faps\n",
    "ax62 = plt.subplot(gs[6,-1])\n",
    "faps, pwrs = np.load('output_data/FAPS_Sindex.npy').T\n",
    "ax62.plot(faps, pwrs/normH, '-', c=colH)\n",
    "# customize\n",
    "ax62.set_xscale('log'), ax61.set_xscale('log')\n",
    "ax62.set_xlim((2e-3,1.1)), ax61.set_xlim((.5,200))\n",
    "ax62.set_ylim(ax61.get_ylim()), ax62.set_yticklabels('')\n",
    "ax62.set_xticks(np.logspace(-2,0,3))\n",
    "ax61.set_ylabel('S-index', fontsize=12)\n",
    "ax62.set_xticklabels(''), ax61.set_xticklabels('')\n",
    "\n",
    "# FWHM\n",
    "ax71 = plt.subplot(gs[7,:-1])\n",
    "per,pwr,_ = compute_LSperiodogram(bjd, fwhm, scale_err(rv,erv,fwhm), plims=(.5,Hlen))\n",
    "normH = pwr.std()\n",
    "ax71.plot(per, pwr/normH, '-', c=colH, lw=.9)\n",
    "# WF faps\n",
    "ax72 = plt.subplot(gs[7,-1])\n",
    "faps, pwrs = np.load('output_data/FAPS_FWHM.npy').T\n",
    "ax72.plot(faps, pwrs/normH, '-', c=colH)\n",
    "# customize\n",
    "ax72.set_xscale('log'), ax71.set_xscale('log')\n",
    "ax72.set_xlim((2e-3,1.1)), ax71.set_xlim((.5,200))\n",
    "ax72.set_ylim(ax71.get_ylim()), ax72.set_yticklabels('')\n",
    "ax72.set_xticks(np.logspace(-2,0,3))\n",
    "ax71.set_ylabel('FWHM', fontsize=12)\n",
    "ax72.set_xticklabels(''), ax71.set_xticklabels('')\n",
    "\n",
    "# BIS\n",
    "ax81 = plt.subplot(gs[8,:-1])\n",
    "per,pwr,_ = compute_LSperiodogram(bjd, bis, scale_err(rv,erv,bis), plims=(.5,Hlen))\n",
    "normH = pwr.std()\n",
    "ax81.plot(per, pwr/normH, '-', c=colH, lw=.9)\n",
    "# WF faps\n",
    "ax82 = plt.subplot(gs[8,-1])\n",
    "faps, pwrs = np.load('output_data/FAPS_FWHM.npy').T\n",
    "ax82.plot(faps, pwrs/normH, '-', c=colH)\n",
    "# customize\n",
    "ax82.set_xscale('log'), ax81.set_xscale('log')\n",
    "ax82.set_xlim((2e-3,1.1)), ax81.set_xlim((.5,200))\n",
    "ax82.set_ylim(ax81.get_ylim()), ax82.set_yticklabels('')\n",
    "ax82.set_xticks(np.logspace(-2,0,3))\n",
    "ax81.set_ylabel('BIS', fontsize=12)\n",
    "ax81.set_xticks(np.logspace(0,2,3)), ax81.set_xticklabels(['1','10','100'])\n",
    "ax82.set_xticks(np.logspace(-2,0,3)), ax82.set_xticklabels(['1','10','100'])\n",
    "ax81.set_xlabel('Period [days]', fontsize=12), ax82.set_xlabel('FAP [%]', fontsize=12)\n",
    "\n",
    "# legend\n",
    "ax41.text(-.22, 1.12, 'Normalized Power', fontsize=13, rotation=90, transform=ax41.transAxes)\n",
    "\n",
    "# plot vertical lines\n",
    "#cols = ['#feb24c','#fc4e2a','#800026','#e31a1c','#fd8d3c']\n",
    "cols = ['#f4a582','#f4a582','#67001f','#92c5de','#d6604d']\n",
    "vert = 1\n",
    "if vert:\n",
    "    colind = 0\n",
    "    for p in [40,80,2.25,3.69,7.45]: \n",
    "        ax01.axvline(p, ls=':', color=cols[colind], lw=2)\n",
    "        ax11.axvline(p, ls=':', color=cols[colind], lw=2)\n",
    "        ax21.axvline(p, ls=':', color=cols[colind], lw=2)\n",
    "        ax31.axvline(p, ls=':', color=cols[colind], lw=2)\n",
    "        ax41.axvline(p, ls=':', color=cols[colind], lw=2)\n",
    "        ax51.axvline(p, ls=':', color=cols[colind], lw=2)\n",
    "        ax61.axvline(p, ls=':', color=cols[colind], lw=2)\n",
    "        ax71.axvline(p, ls=':', color=cols[colind], lw=2)\n",
    "        ax81.axvline(p, ls=':', color=cols[colind], lw=2)\n",
    "        colind += 1\n",
    "    ax11.text(2.5, 6.5, r'$P_b$', fontsize=12, weight='semibold', color=cols[2])\n",
    "    ax11.text(4, 6.5, r'$P_c$', fontsize=12, weight='semibold', color=cols[3])\n",
    "    ax11.text(8, 6.5, r'$P_d$', fontsize=12, weight='semibold', color=cols[4])\n",
    "    ax11.text(25, 5, r'$\\frac{P_{rot}^*}{2}$', fontsize=14, weight='semibold', color=cols[1])\n",
    "    ax11.text(50, 5, r'$P_{rot}^*$', fontsize=12, weight='semibold', color=cols[0])\n",
    "    \n",
    "fig.subplots_adjust(hspace=.05, wspace=0, bottom=.05, left=.15, top=.99, right=.97)\n",
    "plt.savefig('/Users/ryancloutier/Research/TOI_175/plots/periodograms.png')"
   ]
  },
  {
   "cell_type": "code",
   "execution_count": null,
   "metadata": {},
   "outputs": [],
   "source": []
  }
 ],
 "metadata": {
  "kernelspec": {
   "display_name": "Python [default]",
   "language": "python",
   "name": "python2"
  },
  "language_info": {
   "codemirror_mode": {
    "name": "ipython",
    "version": 2
   },
   "file_extension": ".py",
   "mimetype": "text/x-python",
   "name": "python",
   "nbconvert_exporter": "python",
   "pygments_lexer": "ipython2",
   "version": "2.7.13"
  }
 },
 "nbformat": 4,
 "nbformat_minor": 2
}
