{
 "cells": [
  {
   "cell_type": "code",
   "execution_count": null,
   "metadata": {},
   "outputs": [
    {
     "name": "stderr",
     "output_type": "stream",
     "text": [
      "\n",
      "Bad key \"xtick.labeltop\" on line 358 in\n",
      "/Users/ryancloutier/.matplotlib/matplotlibrc.\n",
      "You probably need to get an updated matplotlibrc file from\n",
      "http://github.com/matplotlib/matplotlib/blob/master/matplotlibrc.template\n",
      "or from the matplotlib source distribution\n"
     ]
    }
   ],
   "source": [
    "from perrakisFML import *"
   ]
  },
  {
   "cell_type": "code",
   "execution_count": null,
   "metadata": {},
   "outputs": [],
   "source": [
    "def compute_Bayes_factor(lnZ, lnZp):\n",
    "    return np.exp(lnZ-lnZp)"
   ]
  },
  {
   "cell_type": "markdown",
   "metadata": {},
   "source": [
    "## compute evidences using a trained GP"
   ]
  },
  {
   "cell_type": "code",
   "execution_count": null,
   "metadata": {},
   "outputs": [],
   "source": [
    "# Halpha GP + 1 planet model\n",
    "samples = fits.open('output_data/1planet_TOI175_H113_HalphaGP_samplesv2')[0].data\n",
    "lnprobs = fits.open('output_data/1planet_TOI175_H113_HalphaGP_lnprobsv2')[0].data.flatten()\n",
    "lnZ1 = compute_perrakis_FMLv2(samples, lnprobs)\n",
    "lnZ1"
   ]
  },
  {
   "cell_type": "code",
   "execution_count": null,
   "metadata": {},
   "outputs": [],
   "source": [
    "# untrained GP + 2 planet model\n",
    "samples = fits.open('output_data/2planets_TOI175_H113_HalphaGP_samplesv2')[0].data\n",
    "lnprobs = fits.open('output_data/2planets_TOI175_H113_HalphaGP_lnprobsv2')[0].data.flatten()\n",
    "lnZ2 = compute_perrakis_FMLv2(samples, lnprobs)\n",
    "lnZ2"
   ]
  },
  {
   "cell_type": "code",
   "execution_count": null,
   "metadata": {},
   "outputs": [],
   "source": [
    "# untrained GP + 3 planet model\n",
    "samples = fits.open('output_data/3planets_TOI175_H113_HalphaGP_samplesv2')[0].data\n",
    "lnprobs = fits.open('output_data/3planets_TOI175_H113_HalphaGP_lnprobsv2')[0].data.flatten()\n",
    "lnZ3 = compute_perrakis_FMLv2(samples, lnprobs)\n",
    "lnZ3"
   ]
  },
  {
   "cell_type": "code",
   "execution_count": null,
   "metadata": {},
   "outputs": [],
   "source": [
    "print compute_Bayes_factor(lnZ1, lnZ2)\n",
    "print compute_Bayes_factor(lnZ2, lnZ3)\n",
    "print compute_Bayes_factor(lnZ1, lnZ3)"
   ]
  },
  {
   "cell_type": "markdown",
   "metadata": {},
   "source": [
    "## compute evidences using an untrained GP"
   ]
  },
  {
   "cell_type": "code",
   "execution_count": null,
   "metadata": {},
   "outputs": [],
   "source": [
    "# untrained GP + 1 planet model\n",
    "samples = fits.open('output_data/1planet_TOI175_H113_untrainedGP_samplesv2')[0].data\n",
    "lnprobs = fits.open('output_data/1planet_TOI175_H113_untrainedGP_lnprobsv2')[0].data.flatten()\n",
    "lnZ1u = compute_perrakis_FMLv2(samples, lnprobs)\n",
    "lnZ1u"
   ]
  },
  {
   "cell_type": "code",
   "execution_count": null,
   "metadata": {},
   "outputs": [],
   "source": [
    "# untrained GP + 2 planet model\n",
    "samples = fits.open('output_data/2planets_TOI175_H113_untrainedGP_samplesv2')[0].data\n",
    "lnprobs = fits.open('output_data/2planets_TOI175_H113_untrainedGP_lnprobsv2')[0].data.flatten()\n",
    "lnZ2u = compute_perrakis_FMLv2(samples, lnprobs)\n",
    "lnZ2u"
   ]
  },
  {
   "cell_type": "code",
   "execution_count": null,
   "metadata": {},
   "outputs": [],
   "source": [
    "# untrained GP + 3 planet model\n",
    "samples = fits.open('output_data/3planets_TOI175_H113_untrainedGP_samplesv2')[0].data\n",
    "lnprobs = fits.open('output_data/3planets_TOI175_H113_untrainedGP_lnprobsv2')[0].data.flatten()\n",
    "lnZ3u = compute_perrakis_FMLv2(samples, lnprobs)\n",
    "lnZ3u"
   ]
  },
  {
   "cell_type": "code",
   "execution_count": null,
   "metadata": {},
   "outputs": [],
   "source": [
    "print compute_Bayes_factor(lnZ1u, lnZ2u)\n",
    "print compute_Bayes_factor(lnZ2u, lnZ3u)\n",
    "print compute_Bayes_factor(lnZ1u, lnZ3u)"
   ]
  },
  {
   "cell_type": "code",
   "execution_count": null,
   "metadata": {},
   "outputs": [],
   "source": []
  }
 ],
 "metadata": {
  "kernelspec": {
   "display_name": "Python [default]",
   "language": "python",
   "name": "python2"
  },
  "language_info": {
   "codemirror_mode": {
    "name": "ipython",
    "version": 2
   },
   "file_extension": ".py",
   "mimetype": "text/x-python",
   "name": "python",
   "nbconvert_exporter": "python",
   "pygments_lexer": "ipython2",
   "version": "2.7.13"
  }
 },
 "nbformat": 4,
 "nbformat_minor": 2
}
