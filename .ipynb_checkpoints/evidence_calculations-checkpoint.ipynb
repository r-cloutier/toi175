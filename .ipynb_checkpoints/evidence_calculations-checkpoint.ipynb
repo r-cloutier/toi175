{
 "cells": [
  {
   "cell_type": "code",
   "execution_count": 1,
   "metadata": {},
   "outputs": [
    {
     "name": "stderr",
     "output_type": "stream",
     "text": [
      "\n",
      "Bad key \"xtick.labeltop\" on line 358 in\n",
      "/Users/ryancloutier/.matplotlib/matplotlibrc.\n",
      "You probably need to get an updated matplotlibrc file from\n",
      "http://github.com/matplotlib/matplotlib/blob/master/matplotlibrc.template\n",
      "or from the matplotlib source distribution\n"
     ]
    }
   ],
   "source": [
    "from perrakisFML import *"
   ]
  },
  {
   "cell_type": "code",
   "execution_count": 9,
   "metadata": {},
   "outputs": [],
   "source": [
    "def compute_Bayes_factor(lnZ, lnZp):\n",
    "    return np.exp(lnZ-lnZp)"
   ]
  },
  {
   "cell_type": "markdown",
   "metadata": {},
   "source": [
    "## compute evidences using a trained GP"
   ]
  },
  {
   "cell_type": "code",
   "execution_count": 34,
   "metadata": {},
   "outputs": [
    {
     "data": {
      "text/plain": [
       "-267.13030130696137"
      ]
     },
     "execution_count": 34,
     "metadata": {},
     "output_type": "execute_result"
    }
   ],
   "source": [
    "# Halpha GP + 1 planet model\n",
    "samples = fits.open('output_data/1planet_TOI175_H113_HalphaGP_samplesv2')[0].data\n",
    "lnprobs = fits.open('output_data/1planet_TOI175_H113_HalphaGP_lnprobsv2')[0].data.flatten()\n",
    "lnZ1 = compute_perrakis_FMLv2(samples, lnprobs)\n",
    "lnZ1"
   ]
  },
  {
   "cell_type": "code",
   "execution_count": 35,
   "metadata": {},
   "outputs": [
    {
     "data": {
      "text/plain": [
       "-282.5891263806531"
      ]
     },
     "execution_count": 35,
     "metadata": {},
     "output_type": "execute_result"
    }
   ],
   "source": [
    "# untrained GP + 2 planet model\n",
    "samples = fits.open('output_data/2planets_TOI175_H113_HalphaGP_samplesv2')[0].data\n",
    "lnprobs = fits.open('output_data/2planets_TOI175_H113_HalphaGP_lnprobsv2')[0].data.flatten()\n",
    "lnZ2 = compute_perrakis_FMLv2(samples, lnprobs)\n",
    "lnZ2"
   ]
  },
  {
   "cell_type": "code",
   "execution_count": 36,
   "metadata": {},
   "outputs": [
    {
     "data": {
      "text/plain": [
       "-298.63760514709446"
      ]
     },
     "execution_count": 36,
     "metadata": {},
     "output_type": "execute_result"
    }
   ],
   "source": [
    "# untrained GP + 3 planet model\n",
    "samples = fits.open('output_data/3planets_TOI175_H113_HalphaGP_samplesv2')[0].data\n",
    "lnprobs = fits.open('output_data/3planets_TOI175_H113_HalphaGP_lnprobsv2')[0].data.flatten()\n",
    "lnZ3 = compute_perrakis_FMLv2(samples, lnprobs)\n",
    "lnZ3"
   ]
  },
  {
   "cell_type": "code",
   "execution_count": 37,
   "metadata": {},
   "outputs": [
    {
     "name": "stdout",
     "output_type": "stream",
     "text": [
      "5172284.751356348\n",
      "9327511.028505787\n",
      "48244543060848.66\n"
     ]
    }
   ],
   "source": [
    "print compute_Bayes_factor(lnZ1, lnZ2)\n",
    "print compute_Bayes_factor(lnZ2, lnZ3)\n",
    "print compute_Bayes_factor(lnZ1, lnZ3)"
   ]
  },
  {
   "cell_type": "markdown",
   "metadata": {},
   "source": [
    "## compute evidences using a trained GP"
   ]
  },
  {
   "cell_type": "code",
   "execution_count": 30,
   "metadata": {},
   "outputs": [
    {
     "data": {
      "text/plain": [
       "-273.3885431313497"
      ]
     },
     "execution_count": 30,
     "metadata": {},
     "output_type": "execute_result"
    }
   ],
   "source": [
    "# untrained GP + 1 planet model\n",
    "samples = fits.open('output_data/1planet_TOI175_H113_untrainedGP_samplesv2')[0].data\n",
    "lnprobs = fits.open('output_data/1planet_TOI175_H113_untrainedGP_lnprobsv2')[0].data.flatten()\n",
    "lnZ1u = compute_perrakis_FMLv2(samples, lnprobs)\n",
    "lnZ1u"
   ]
  },
  {
   "cell_type": "code",
   "execution_count": 31,
   "metadata": {},
   "outputs": [
    {
     "data": {
      "text/plain": [
       "-281.12360324711574"
      ]
     },
     "execution_count": 31,
     "metadata": {},
     "output_type": "execute_result"
    }
   ],
   "source": [
    "# untrained GP + 2 planet model\n",
    "samples = fits.open('output_data/2planets_TOI175_H113_untrainedGP_samplesv2')[0].data\n",
    "lnprobs = fits.open('output_data/2planets_TOI175_H113_untrainedGP_lnprobsv2')[0].data.flatten()\n",
    "lnZ2u = compute_perrakis_FMLv2(samples, lnprobs)\n",
    "lnZ2u"
   ]
  },
  {
   "cell_type": "code",
   "execution_count": 32,
   "metadata": {},
   "outputs": [
    {
     "data": {
      "text/plain": [
       "-297.0277627837061"
      ]
     },
     "execution_count": 32,
     "metadata": {},
     "output_type": "execute_result"
    }
   ],
   "source": [
    "# untrained GP + 3 planet model\n",
    "samples = fits.open('output_data/3planets_TOI175_H113_untrainedGP_samplesv2')[0].data\n",
    "lnprobs = fits.open('output_data/3planets_TOI175_H113_untrainedGP_lnprobsv2')[0].data.flatten()\n",
    "lnZ3u = compute_perrakis_FMLv2(samples, lnprobs)\n",
    "lnZ3u"
   ]
  },
  {
   "cell_type": "code",
   "execution_count": 33,
   "metadata": {},
   "outputs": [
    {
     "name": "stdout",
     "output_type": "stream",
     "text": [
      "2287.146193699243\n",
      "8073999.646321355\n",
      "18466417559.012924\n"
     ]
    }
   ],
   "source": [
    "print compute_Bayes_factor(lnZ1u, lnZ2u)\n",
    "print compute_Bayes_factor(lnZ2u, lnZ3u)\n",
    "print compute_Bayes_factor(lnZ1u, lnZ3u)"
   ]
  },
  {
   "cell_type": "code",
   "execution_count": null,
   "metadata": {},
   "outputs": [],
   "source": []
  }
 ],
 "metadata": {
  "kernelspec": {
   "display_name": "Python [default]",
   "language": "python",
   "name": "python2"
  },
  "language_info": {
   "codemirror_mode": {
    "name": "ipython",
    "version": 2
   },
   "file_extension": ".py",
   "mimetype": "text/x-python",
   "name": "python",
   "nbconvert_exporter": "python",
   "pygments_lexer": "ipython2",
   "version": "2.7.13"
  }
 },
 "nbformat": 4,
 "nbformat_minor": 2
}
