{
 "cells": [
  {
   "cell_type": "code",
   "execution_count": 1,
   "metadata": {},
   "outputs": [],
   "source": [
    "from imports import *\n",
    "%matplotlib inline"
   ]
  },
  {
   "cell_type": "code",
   "execution_count": 23,
   "metadata": {},
   "outputs": [],
   "source": [
    "# define planetary parameters\n",
    "rps = unp.uarray([.77,1.37,1.48], [.05,.08,.11])\n",
    "smas = unp.uarray([.02282,.0317,.0506], [8e-5,1e-4,2e-4])\n",
    "dist = unp.uarray(10.619, 0.003)\n",
    "A = .3\n",
    "sep_arcsec = smas/dist\n",
    "contrast = A * (rvs.Rearth2m(rps) / rvs.AU2m(smas))**2"
   ]
  },
  {
   "cell_type": "code",
   "execution_count": 24,
   "metadata": {},
   "outputs": [],
   "source": [
    "# get TMT+EELT contrast curve\n",
    "Csep, Ccurve = np.loadtxt('/Users/ryancloutier/Research/BlindSurvey/input_data/EPICS_PFI.csv', delimiter=',').T"
   ]
  },
  {
   "cell_type": "code",
   "execution_count": null,
   "metadata": {},
   "outputs": [
    {
     "data": {
      "text/plain": [
       "((0.001, 3), (1e-09, 1e-05))"
      ]
     },
     "execution_count": 25,
     "metadata": {},
     "output_type": "execute_result"
    }
   ],
   "source": [
    "# plot direct imaging plot\n",
    "fig = plt.figure(figsize=(6,5.6))\n",
    "ax = fig.add_subplot(111)\n",
    "\n",
    "ax.errorbar(unp.nominal_values(sep_arcsec), unp.nominal_values(contrast), xerr=unp.std_devs(sep_arcsec),\n",
    "            yerr=unp.std_devs(contrast), fmt='ro')\n",
    "ax.plot(Csep, Ccurve, 'k-')\n",
    "\n",
    "ax.set_xscale('log'), ax.set_yscale('log')\n",
    "ax.set_xlim((1e-3,3)), ax.set_ylim((1e-9,1e-5))"
   ]
  },
  {
   "cell_type": "code",
   "execution_count": null,
   "metadata": {},
   "outputs": [],
   "source": []
  }
 ],
 "metadata": {
  "kernelspec": {
   "display_name": "Python [default]",
   "language": "python",
   "name": "python2"
  },
  "language_info": {
   "codemirror_mode": {
    "name": "ipython",
    "version": 2
   },
   "file_extension": ".py",
   "mimetype": "text/x-python",
   "name": "python",
   "nbconvert_exporter": "python",
   "pygments_lexer": "ipython2",
   "version": "2.7.13"
  }
 },
 "nbformat": 4,
 "nbformat_minor": 2
}
