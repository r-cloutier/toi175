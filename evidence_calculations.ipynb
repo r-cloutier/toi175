{
 "cells": [
  {
   "cell_type": "code",
   "execution_count": 1,
   "metadata": {},
   "outputs": [],
   "source": [
    "from perrakisFML import *"
   ]
  },
  {
   "cell_type": "code",
   "execution_count": 2,
   "metadata": {},
   "outputs": [],
   "source": [
    "def compute_Bayes_factor(lnZ, lnZp):\n",
    "    return np.exp(lnZ-lnZp)"
   ]
  },
  {
   "cell_type": "markdown",
   "metadata": {},
   "source": [
    "## compute evidences using a trained GP"
   ]
  },
  {
   "cell_type": "code",
   "execution_count": 3,
   "metadata": {},
   "outputs": [],
   "source": [
    "# Halpha GP + 1 planet model\n",
    "#samples = fits.open('output_data/1planet_TOI175_H113_HalphaGP_samplesv2')[0].data\n",
    "#lnprobs = fits.open('output_data/1planet_TOI175_H113_HalphaGP_lnprobsv2')[0].data.flatten()\n",
    "#lnZ1 = compute_perrakis_FMLv2(samples, lnprobs)\n",
    "#lnZ1"
   ]
  },
  {
   "cell_type": "code",
   "execution_count": 4,
   "metadata": {},
   "outputs": [],
   "source": [
    "# untrained GP + 2 planet model\n",
    "#samples = fits.open('output_data/2planets_TOI175_H113_HalphaGP_samplesv2')[0].data\n",
    "#lnprobs = fits.open('output_data/2planets_TOI175_H113_HalphaGP_lnprobsv2')[0].data.flatten()\n",
    "#lnZ2 = compute_perrakis_FMLv2(samples, lnprobs)\n",
    "#lnZ2"
   ]
  },
  {
   "cell_type": "code",
   "execution_count": 5,
   "metadata": {},
   "outputs": [
    {
     "data": {
      "text/plain": [
       "-411.5347041342252"
      ]
     },
     "execution_count": 5,
     "metadata": {},
     "output_type": "execute_result"
    }
   ],
   "source": [
    "# untrained GP + 3 planet model\n",
    "samples = fits.open('output_data/3planets_TOI175_H161_HalphaGP_samplesv1')[0].data\n",
    "lnprobs = fits.open('output_data/3planets_TOI175_H161_HalphaGP_lnprobsv1')[0].data.flatten()\n",
    "lnZ3 = compute_perrakis_FMLv2(samples, lnprobs)\n",
    "lnZ3"
   ]
  },
  {
   "cell_type": "code",
   "execution_count": 6,
   "metadata": {},
   "outputs": [],
   "source": [
    "#print compute_Bayes_factor(lnZ1, lnZ2)\n",
    "#print compute_Bayes_factor(lnZ2, lnZ3)\n",
    "#print compute_Bayes_factor(lnZ1, lnZ3)"
   ]
  },
  {
   "cell_type": "markdown",
   "metadata": {},
   "source": [
    "## compute evidences using an untrained GP"
   ]
  },
  {
   "cell_type": "code",
   "execution_count": 7,
   "metadata": {},
   "outputs": [],
   "source": [
    "# untrained GP + 1 planet model\n",
    "#samples = fits.open('output_data/1planet_TOI175_H113_untrainedGP_samplesv2')[0].data\n",
    "#lnprobs = fits.open('output_data/1planet_TOI175_H113_untrainedGP_lnprobsv2')[0].data.flatten()\n",
    "#lnZ1u = compute_perrakis_FMLv2(samples, lnprobs)\n",
    "#lnZ1u"
   ]
  },
  {
   "cell_type": "code",
   "execution_count": 8,
   "metadata": {},
   "outputs": [],
   "source": [
    "# untrained GP + 2 planet model\n",
    "#samples = fits.open('output_data/2planets_TOI175_H113_untrainedGP_samplesv2')[0].data\n",
    "#lnprobs = fits.open('output_data/2planets_TOI175_H113_untrainedGP_lnprobsv2')[0].data.flatten()\n",
    "#lnZ2u = compute_perrakis_FMLv2(samples, lnprobs)\n",
    "#lnZ2u"
   ]
  },
  {
   "cell_type": "code",
   "execution_count": 9,
   "metadata": {},
   "outputs": [
    {
     "data": {
      "text/plain": [
       "-410.3409182735222"
      ]
     },
     "execution_count": 9,
     "metadata": {},
     "output_type": "execute_result"
    }
   ],
   "source": [
    "# untrained GP + 3 planet model\n",
    "samples = fits.open('output_data/3planets_TOI175_H161_untrainedGP_samplesv1')[0].data\n",
    "lnprobs = fits.open('output_data/3planets_TOI175_H161_untrainedGP_lnprobsv1')[0].data.flatten()\n",
    "lnZ3u = compute_perrakis_FMLv2(samples, lnprobs)\n",
    "lnZ3u"
   ]
  },
  {
   "cell_type": "code",
   "execution_count": 10,
   "metadata": {},
   "outputs": [],
   "source": [
    "#print compute_Bayes_factor(lnZ1u, lnZ2u)\n",
    "#print compute_Bayes_factor(lnZ2u, lnZ3u)\n",
    "#print compute_Bayes_factor(lnZ1u, lnZ3u)"
   ]
  },
  {
   "cell_type": "code",
   "execution_count": 13,
   "metadata": {},
   "outputs": [
    {
     "data": {
      "text/plain": [
       "3.299549225151154"
      ]
     },
     "execution_count": 13,
     "metadata": {},
     "output_type": "execute_result"
    }
   ],
   "source": [
    "compute_Bayes_factor(lnZ3u, lnZ3)"
   ]
  },
  {
   "cell_type": "code",
   "execution_count": null,
   "metadata": {},
   "outputs": [],
   "source": []
  }
 ],
 "metadata": {
  "kernelspec": {
   "display_name": "Python [default]",
   "language": "python",
   "name": "python2"
  },
  "language_info": {
   "codemirror_mode": {
    "name": "ipython",
    "version": 2
   },
   "file_extension": ".py",
   "mimetype": "text/x-python",
   "name": "python",
   "nbconvert_exporter": "python",
   "pygments_lexer": "ipython2",
   "version": "2.7.13"
  }
 },
 "nbformat": 4,
 "nbformat_minor": 2
}
