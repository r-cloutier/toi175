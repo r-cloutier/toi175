{
 "cells": [
  {
   "cell_type": "code",
   "execution_count": 1,
   "metadata": {},
   "outputs": [
    {
     "name": "stderr",
     "output_type": "stream",
     "text": [
      "\n",
      "Bad key \"xtick.labeltop\" on line 358 in\n",
      "/Users/ryancloutier/.matplotlib/matplotlibrc.\n",
      "You probably need to get an updated matplotlibrc file from\n",
      "http://github.com/matplotlib/matplotlib/blob/master/matplotlibrc.template\n",
      "or from the matplotlib source distribution\n"
     ]
    }
   ],
   "source": [
    "from perrakisFML import *"
   ]
  },
  {
   "cell_type": "code",
   "execution_count": 9,
   "metadata": {},
   "outputs": [],
   "source": [
    "def compute_Bayes_factor(lnZ, lnZp):\n",
    "    return np.exp(lnZ-lnZp)"
   ]
  },
  {
   "cell_type": "code",
   "execution_count": 12,
   "metadata": {},
   "outputs": [
    {
     "data": {
      "text/plain": [
       "-299.27126258101606"
      ]
     },
     "execution_count": 12,
     "metadata": {},
     "output_type": "execute_result"
    }
   ],
   "source": [
    "# Halpha GP + 1 planet model\n",
    "samples = fits.open('output_data/1planet_TOI175_HalphaGP_samplesv1')[0].data\n",
    "lnprobs = fits.open('output_data/1planet_TOI175_HalphaGP_lnprobsv1')[0].data.flatten()\n",
    "lnZ1 = compute_perrakis_FMLv2(samples, lnprobs)\n",
    "lnZ1"
   ]
  },
  {
   "cell_type": "code",
   "execution_count": 13,
   "metadata": {},
   "outputs": [
    {
     "data": {
      "text/plain": [
       "-277.69600908252306"
      ]
     },
     "execution_count": 13,
     "metadata": {},
     "output_type": "execute_result"
    }
   ],
   "source": [
    "# untrained GP + 2 planet model\n",
    "samples = fits.open('output_data/2planets_TOI175_H111_untrainedGP_samplesv1')[0].data\n",
    "lnprobs = fits.open('output_data/2planets_TOI175_H111_untrainedGP_lnprobsv1')[0].data.flatten()\n",
    "lnZ2 = compute_perrakis_FMLv2(samples, lnprobs)\n",
    "lnZ2"
   ]
  },
  {
   "cell_type": "code",
   "execution_count": 14,
   "metadata": {},
   "outputs": [
    {
     "data": {
      "text/plain": [
       "-288.6351589067877"
      ]
     },
     "execution_count": 14,
     "metadata": {},
     "output_type": "execute_result"
    }
   ],
   "source": [
    "# untrained GP + 3 planet model\n",
    "samples = fits.open('output_data/3planets_TOI175_H111_untrainedGP_samplesv1')[0].data\n",
    "lnprobs = fits.open('output_data/3planets_TOI175_H111_untrainedGP_lnprobsv1')[0].data.flatten()\n",
    "lnZ3 = compute_perrakis_FMLv2(samples, lnprobs)\n",
    "lnZ3"
   ]
  },
  {
   "cell_type": "code",
   "execution_count": 17,
   "metadata": {},
   "outputs": [
    {
     "name": "stdout",
     "output_type": "stream",
     "text": [
      "2344301902.806376\n",
      "56339.42436782336\n",
      "41610.32756566921\n"
     ]
    }
   ],
   "source": [
    "print compute_Bayes_factor(lnZ2, lnZ1)\n",
    "print compute_Bayes_factor(lnZ2, lnZ3)\n",
    "print compute_Bayes_factor(lnZ3, lnZ1)"
   ]
  }
 ],
 "metadata": {
  "kernelspec": {
   "display_name": "Python [default]",
   "language": "python",
   "name": "python2"
  },
  "language_info": {
   "codemirror_mode": {
    "name": "ipython",
    "version": 2
   },
   "file_extension": ".py",
   "mimetype": "text/x-python",
   "name": "python",
   "nbconvert_exporter": "python",
   "pygments_lexer": "ipython2",
   "version": "2.7.13"
  }
 },
 "nbformat": 4,
 "nbformat_minor": 2
}
