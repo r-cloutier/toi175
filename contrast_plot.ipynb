{
 "cells": [
  {
   "cell_type": "code",
   "execution_count": 1,
   "metadata": {},
   "outputs": [],
   "source": [
    "from imports import *\n",
    "%matplotlib inline"
   ]
  },
  {
   "cell_type": "code",
   "execution_count": 2,
   "metadata": {},
   "outputs": [],
   "source": [
    "# define planetary parameters\n",
    "rps = unp.uarray([.77,1.37,1.48], [.05,.08,.11])\n",
    "smas = unp.uarray([.02282,.0317,.0506], [8e-5,1e-4,2e-4])\n",
    "dist = unp.uarray(10.619, 0.003)\n",
    "A = .3\n",
    "sep_arcsec = smas/dist\n",
    "contrast = A * (rvs.Rearth2m(rps) / rvs.AU2m(smas))**2"
   ]
  },
  {
   "cell_type": "code",
   "execution_count": 3,
   "metadata": {},
   "outputs": [],
   "source": [
    "# get TMT+EELT contrast curve\n",
    "Csep, Ccurve = np.loadtxt('/Users/ryancloutier/Research/BlindSurvey/input_data/EPICS_PFI.csv', delimiter=',').T"
   ]
  },
  {
   "cell_type": "code",
   "execution_count": 4,
   "metadata": {},
   "outputs": [
    {
     "data": {
      "text/plain": [
       "((0.001, 3), (1e-09, 1e-05))"
      ]
     },
     "execution_count": 4,
     "metadata": {},
     "output_type": "execute_result"
    },
    {
     "data": {
      "image/png": "[encoded data removed]",
      "text/plain": [
       "<matplotlib.figure.Figure at 0x119e80450>"
      ]
     },
     "metadata": {},
     "output_type": "display_data"
    }
   ],
   "source": [
    "# plot direct imaging plot\n",
    "fig = plt.figure(figsize=(6,5.6))\n",
    "ax = fig.add_subplot(111)\n",
    "\n",
    "ax.errorbar(unp.nominal_values(sep_arcsec), unp.nominal_values(contrast), xerr=unp.std_devs(sep_arcsec),\n",
    "            yerr=unp.std_devs(contrast), fmt='ro')\n",
    "ax.plot(Csep, Ccurve, 'k-')\n",
    "\n",
    "ax.set_xscale('log'), ax.set_yscale('log')\n",
    "ax.set_xlim((1e-3,3)), ax.set_ylim((1e-9,1e-5))"
   ]
  },
  {
   "cell_type": "code",
   "execution_count": 5,
   "metadata": {},
   "outputs": [
    {
     "data": {
      "text/plain": [
       "(array([0.0021489782465392224+/-7.558089100943638e-06,\n",
       "        0.0029852151803371313+/-9.454771359523352e-06,\n",
       "        0.004765043789434033+/-1.888221359123694e-05], dtype=object),\n",
       " array([6.194921549387443e-07+/-8.057068924602215e-08,\n",
       "        1.0162679996136821e-06+/-1.1886129635822995e-07,\n",
       "        4.6548751584686307e-07+/-6.929186552387307e-08], dtype=object))"
      ]
     },
     "execution_count": 5,
     "metadata": {},
     "output_type": "execute_result"
    }
   ],
   "source": [
    "sep_arcsec, contrast"
   ]
  },
  {
   "cell_type": "code",
   "execution_count": null,
   "metadata": {},
   "outputs": [],
   "source": []
  }
 ],
 "metadata": {
  "kernelspec": {
   "display_name": "Python [default]",
   "language": "python",
   "name": "python2"
  },
  "language_info": {
   "codemirror_mode": {
    "name": "ipython",
    "version": 2
   },
   "file_extension": ".py",
   "mimetype": "text/x-python",
   "name": "python",
   "nbconvert_exporter": "python",
   "pygments_lexer": "ipython2",
   "version": "2.7.13"
  }
 },
 "nbformat": 4,
 "nbformat_minor": 2
}
